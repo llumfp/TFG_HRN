{
 "cells": [
  {
   "cell_type": "code",
   "execution_count": 4,
   "metadata": {},
   "outputs": [],
   "source": [
    "import json\n",
    "import pandas as pd"
   ]
  },
  {
   "cell_type": "code",
   "execution_count": 2,
   "metadata": {},
   "outputs": [],
   "source": [
    "def read_json(file):\n",
    "    with open(file) as f:\n",
    "        return json.load(f)"
   ]
  },
  {
   "cell_type": "code",
   "execution_count": 18,
   "metadata": {},
   "outputs": [],
   "source": [
    "conditions = read_json('eval_scenarios/conditions.json')\n",
    "goals = read_json('eval_scenarios/goals.json')\n",
    "goals_duration = read_json('eval_scenarios/goals_duration.json')"
   ]
  },
  {
   "cell_type": "code",
   "execution_count": 6,
   "metadata": {},
   "outputs": [],
   "source": [
    "df = pd.read_csv('eval_scenarios/reception_agent_adapt.csv',delimiter=';')"
   ]
  },
  {
   "cell_type": "code",
   "execution_count": 14,
   "metadata": {},
   "outputs": [],
   "source": [
    "goals_escenarios = [eval(i) for i in df['goals'].unique()]"
   ]
  },
  {
   "cell_type": "code",
   "execution_count": 19,
   "metadata": {},
   "outputs": [],
   "source": [
    "def calculate_min_max_time(goals_list):\n",
    "    min_time = 0\n",
    "    max_time = 0\n",
    "    \n",
    "    # Iteramos sobre cada goal en la lista\n",
    "    for goal_id in goals_list:\n",
    "        # Obtenemos los tiempos para humano y robot\n",
    "        total_duration_human = goals_duration[goal_id][\"total_duration_human\"]\n",
    "        total_duration_robot = goals_duration[goal_id][\"total_duration_robot\"]\n",
    "        \n",
    "        # Calculamos el mínimo y máximo para cada goal\n",
    "        min_time += min(total_duration_human, total_duration_robot)\n",
    "        max_time += max(total_duration_human, total_duration_robot)\n",
    "    \n",
    "    return min_time, max_time"
   ]
  },
  {
   "cell_type": "code",
   "execution_count": 23,
   "metadata": {},
   "outputs": [],
   "source": [
    "# In case we need it\n",
    "def calculate_min_max_time_with_assignment(goals_list):\n",
    "    min_time = 0\n",
    "    max_time = 0\n",
    "    min_assignment = {}\n",
    "    max_assignment = {}\n",
    "    \n",
    "    # Iteramos sobre cada goal en la lista\n",
    "    for goal_id in goals_list:\n",
    "        # Obtenemos los tiempos para humano y robot\n",
    "        total_duration_human = goals_duration[goal_id][\"total_duration_human\"]\n",
    "        total_duration_robot = goals_duration[goal_id][\"total_duration_robot\"]\n",
    "        \n",
    "        # Asignación para tiempo mínimo\n",
    "        if total_duration_human <= total_duration_robot:\n",
    "            min_time += total_duration_human\n",
    "            min_assignment[goal_id] = \"humano\"\n",
    "        else:\n",
    "            min_time += total_duration_robot\n",
    "            min_assignment[goal_id] = \"robot\"\n",
    "        \n",
    "        # Asignación para tiempo máximo\n",
    "        if total_duration_human >= total_duration_robot:\n",
    "            max_time += total_duration_human\n",
    "            max_assignment[goal_id] = \"humano\"\n",
    "        else:\n",
    "            max_time += total_duration_robot\n",
    "            max_assignment[goal_id] = \"robot\"\n",
    "    \n",
    "    return min_time, max_time, min_assignment, max_assignment"
   ]
  },
  {
   "cell_type": "code",
   "execution_count": 22,
   "metadata": {},
   "outputs": [
    {
     "name": "stdout",
     "output_type": "stream",
     "text": [
      "Escenario: ['1', '3', '5']\n",
      "Min Time: 45\n",
      "Max Time: 67\n",
      "\n",
      "Escenario: ['1', '2', '7']\n",
      "Min Time: 60\n",
      "Max Time: 77\n",
      "\n",
      "Escenario: ['2', '3', '4', '6']\n",
      "Min Time: 45\n",
      "Max Time: 65\n",
      "\n"
     ]
    }
   ],
   "source": [
    "for esc in goals_escenarios:\n",
    "    print(f\"Escenario: {esc}\")\n",
    "    min_time, max_time = calculate_min_max_time(esc)\n",
    "    print(f\"Min Time: {min_time}\")\n",
    "    print(f\"Max Time: {max_time}\")\n",
    "    print()"
   ]
  },
  {
   "cell_type": "code",
   "execution_count": 29,
   "metadata": {},
   "outputs": [
    {
     "name": "stdout",
     "output_type": "stream",
     "text": [
      "GOAL: 1\n",
      "The goal is: Necesitamos enviar algunas cartas a la Generalitat.\n",
      "The time for human is: 25\n",
      "The time for robot is: 37\n",
      "\n",
      "GOAL: 2\n",
      "The goal is: Sellar los diplomas de todos nuestros empleados.\n",
      "The time for human is: 15\n",
      "The time for robot is: 10\n",
      "\n",
      "GOAL: 3\n",
      "The goal is: Recoger el paquete recibido.\n",
      "The time for human is: 15\n",
      "The time for robot is: 5\n",
      "\n",
      "GOAL: 4\n",
      "The goal is: Atender al visitante.\n",
      "The time for human is: 15\n",
      "The time for robot is: 15\n",
      "\n",
      "GOAL: 5\n",
      "The goal is: Llevar la caja de registros al almacen.\n",
      "The time for human is: 15\n",
      "The time for robot is: 15\n",
      "\n",
      "GOAL: 6\n",
      "The goal is: Sacar la basura.\n",
      "The time for human is: 15\n",
      "The time for robot is: 20\n",
      "\n",
      "GOAL: 7\n",
      "The goal is: Desempaquetar el paquete recibido y organizar el material.\n",
      "The time for human is: 25\n",
      "The time for robot is: 25\n",
      "\n",
      "GOAL: 8\n",
      "The goal is: Hacer llamadas pendientes.\n",
      "The time for human is: 15\n",
      "The time for robot is: 12\n",
      "\n",
      "GOAL: 9\n",
      "The goal is: Limpiar el area comun.\n",
      "The time for human is: 30\n",
      "The time for robot is: 27\n",
      "\n",
      "GOAL: 10\n",
      "The goal is: Escanear y digitalizar documentos.\n",
      "The time for human is: 12\n",
      "The time for robot is: 10\n",
      "\n",
      "GOAL: 11\n",
      "The goal is: Guiar a un visitante por el instituto.\n",
      "The time for human is: 20\n",
      "The time for robot is: 17\n",
      "\n",
      "GOAL: 12\n",
      "The goal is: Preparar una sala de reuniones.\n",
      "The time for human is: 13\n",
      "The time for robot is: 11\n",
      "\n",
      "GOAL: 13\n",
      "The goal is: AcompaÃ±ar a alguien al lugar de reparacion. AcompaÃ±ar a alguien al contador de gas y luz.\n",
      "The time for human is: 10\n",
      "The time for robot is: 8\n",
      "\n",
      "GOAL: 14\n",
      "The goal is: Gestionar inventario de suministros de oficina.\n",
      "The time for human is: 20\n",
      "The time for robot is: 16\n",
      "\n",
      "GOAL: 15\n",
      "The goal is: Realizar mantenimiento periodico a los robots de recepcion.\n",
      "The time for human is: 25\n",
      "The time for robot is: 13\n",
      "\n",
      "GOAL: 16\n",
      "The goal is: Manejar la correspondencia interna.\n",
      "The time for human is: 9\n",
      "The time for robot is: 7\n",
      "\n",
      "GOAL: 17\n",
      "The goal is: Cargar dispositivos electronicos.\n",
      "The time for human is: 5\n",
      "The time for robot is: 3\n",
      "\n",
      "GOAL: 18\n",
      "The goal is: Suministrar materiales de oficina a las estaciones de trabajo.\n",
      "The time for human is: 7\n",
      "The time for robot is: 5\n",
      "\n",
      "GOAL: 19\n",
      "The goal is: Preparar kits de bienvenida para nuevos empleados o visitantes.\n",
      "The time for human is: 10\n",
      "The time for robot is: 8\n",
      "\n",
      "GOAL: 20\n",
      "The goal is: Recoger y reciclar dispositivos electronicos antiguos.\n",
      "The time for human is: 20\n",
      "The time for robot is: 16\n",
      "\n",
      "GOAL: 21\n",
      "The goal is: Cerrar las puertas asegurando que no hay nadie al final del dia.\n",
      "The time for human is: 17\n",
      "The time for robot is: 14\n",
      "\n"
     ]
    }
   ],
   "source": [
    "for a in goals_duration:\n",
    "    human = goals_duration[a]['total_duration_human']\n",
    "    robot = goals_duration[a]['total_duration_robot']\n",
    "    task  = goals_duration[a]['goal']\n",
    "    print(f'GOAL: {a}')\n",
    "    print(f'The goal is: {task}')\n",
    "    print(f'The time for human is: {human}')\n",
    "    print(f'The time for robot is: {robot}\\n')"
   ]
  },
  {
   "cell_type": "code",
   "execution_count": 31,
   "metadata": {},
   "outputs": [
    {
     "name": "stdout",
     "output_type": "stream",
     "text": [
      "17.857142857142858 18.142857142857142\n"
     ]
    }
   ],
   "source": [
    "data = {\n",
    "    \"GOAL\": [1, 2, 3, 4, 5, 6, 7],\n",
    "    \"Description\": [\n",
    "        \"Enviar cartas a la Generalitat\",\n",
    "        \"Sellar diplomas\",\n",
    "        \"Recoger paquete recibido\",\n",
    "        \"Atender al visitante\",\n",
    "        \"Llevar caja de registros al almacén\",\n",
    "        \"Sacar la basura\",\n",
    "        \"Desempaquetar y organizar material recibido\"\n",
    "    ],\n",
    "    \"Human_Time\": [25, 15, 15, 15, 15, 15, 25],\n",
    "    \"Robot_Time\": [37, 10, 5, 15, 15, 20, 25]\n",
    "}\n",
    "\n",
    "# Crear un DataFrame\n",
    "df = pd.DataFrame(data)\n",
    "\n",
    "# Calcular la media de las duraciones para humanos y robots\n",
    "mean_human_time = df[\"Human_Time\"].mean()\n",
    "mean_robot_time = df[\"Robot_Time\"].mean()\n",
    "\n",
    "print(mean_human_time, mean_robot_time)\n"
   ]
  },
  {
   "cell_type": "markdown",
   "metadata": {},
   "source": [
    "Aproximando las duraciones, vemos que cada tarea se realiza en unos 20 minutos de media. Por tanto, 20 puede ser un buen número para añadir a los costes de las acciones."
   ]
  }
 ],
 "metadata": {
  "kernelspec": {
   "display_name": "venv",
   "language": "python",
   "name": "python3"
  },
  "language_info": {
   "codemirror_mode": {
    "name": "ipython",
    "version": 3
   },
   "file_extension": ".py",
   "mimetype": "text/x-python",
   "name": "python",
   "nbconvert_exporter": "python",
   "pygments_lexer": "ipython3",
   "version": "3.12.2"
  }
 },
 "nbformat": 4,
 "nbformat_minor": 2
}
